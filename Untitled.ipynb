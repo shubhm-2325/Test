{
 "cells": [
  {
   "cell_type": "code",
   "execution_count": 1,
   "id": "f2b67369",
   "metadata": {},
   "outputs": [
    {
     "ename": "SyntaxError",
     "evalue": "invalid syntax (3438429406.py, line 1)",
     "output_type": "error",
     "traceback": [
      "\u001b[1;36m  File \u001b[1;32m\"C:\\Users\\Shubham\\AppData\\Local\\Temp\\ipykernel_6376\\3438429406.py\"\u001b[1;36m, line \u001b[1;32m1\u001b[0m\n\u001b[1;33m    try = q\u001b[0m\n\u001b[1;37m        ^\u001b[0m\n\u001b[1;31mSyntaxError\u001b[0m\u001b[1;31m:\u001b[0m invalid syntax\n"
     ]
    }
   ],
   "source": [
    "try = q"
   ]
  },
  {
   "cell_type": "code",
   "execution_count": 2,
   "id": "86770929",
   "metadata": {},
   "outputs": [],
   "source": [
    "true = 1"
   ]
  },
  {
   "cell_type": "code",
   "execution_count": 4,
   "id": "eb275193",
   "metadata": {},
   "outputs": [
    {
     "ename": "SyntaxError",
     "evalue": "invalid syntax (535306765.py, line 1)",
     "output_type": "error",
     "traceback": [
      "\u001b[1;36m  File \u001b[1;32m\"C:\\Users\\Shubham\\AppData\\Local\\Temp\\ipykernel_6376\\535306765.py\"\u001b[1;36m, line \u001b[1;32m1\u001b[0m\n\u001b[1;33m    if = 1\u001b[0m\n\u001b[1;37m       ^\u001b[0m\n\u001b[1;31mSyntaxError\u001b[0m\u001b[1;31m:\u001b[0m invalid syntax\n"
     ]
    }
   ],
   "source": [
    "if = 1"
   ]
  },
  {
   "cell_type": "code",
   "execution_count": 5,
   "id": "34e4e376",
   "metadata": {},
   "outputs": [],
   "source": [
    "If = 1"
   ]
  },
  {
   "cell_type": "code",
   "execution_count": 11,
   "id": "56f1331e",
   "metadata": {},
   "outputs": [
    {
     "data": {
      "text/plain": [
       "[9, 8, 7, 6, 5, 4, 3, 2, 1, 0]"
      ]
     },
     "execution_count": 11,
     "metadata": {},
     "output_type": "execute_result"
    }
   ],
   "source": [
    "list(range(9,-1,-1))"
   ]
  },
  {
   "cell_type": "code",
   "execution_count": 15,
   "id": "7d1be8de",
   "metadata": {},
   "outputs": [
    {
     "data": {
      "text/plain": [
       "[1, 3, 5, 7, 9, 11, 13, 15, 17, 19]"
      ]
     },
     "execution_count": 15,
     "metadata": {},
     "output_type": "execute_result"
    }
   ],
   "source": [
    "list(range(1,20,2))"
   ]
  },
  {
   "cell_type": "code",
   "execution_count": 18,
   "id": "d458381a",
   "metadata": {},
   "outputs": [
    {
     "name": "stdout",
     "output_type": "stream",
     "text": [
      "123 <class 'int'>\n"
     ]
    }
   ],
   "source": [
    "a = int(float('123.456'))\n",
    "\n",
    "\n",
    "print(a , type(a))"
   ]
  },
  {
   "cell_type": "code",
   "execution_count": 1,
   "id": "5336e078",
   "metadata": {},
   "outputs": [
    {
     "name": "stdout",
     "output_type": "stream",
     "text": [
      "first namexyz\n",
      "second nameabc\n",
      "my fisrt name is  xyzmy second name is  abc\n"
     ]
    }
   ],
   "source": [
    "a = input(\"first name\")\n",
    "b = input(\"second name\")\n",
    "print (\"my fisrt name is \",a + \"my second name is \", b )"
   ]
  },
  {
   "cell_type": "code",
   "execution_count": 6,
   "id": "f3a33869",
   "metadata": {},
   "outputs": [
    {
     "name": "stdout",
     "output_type": "stream",
     "text": [
      "first nameasd\n",
      "second namezxc\n",
      "my fisrt name is asdmy second name is zxc\n"
     ]
    }
   ],
   "source": [
    "a = input(\"first name\")\n",
    "b = input(\"second name\")\n",
    "c = \"my fisrt name is \"+a  + \"my second name is \" +b \n",
    "print(c) "
   ]
  },
  {
   "cell_type": "code",
   "execution_count": 4,
   "id": "aa8610a3",
   "metadata": {},
   "outputs": [
    {
     "ename": "SyntaxError",
     "evalue": "invalid syntax (2288921736.py, line 1)",
     "output_type": "error",
     "traceback": [
      "\u001b[1;36m  File \u001b[1;32m\"C:\\Users\\Shubham\\AppData\\Local\\Temp\\ipykernel_3484\\2288921736.py\"\u001b[1;36m, line \u001b[1;32m1\u001b[0m\n\u001b[1;33m    c = 'my fisrt name is' input(\"first name\") + 'my second name is' input(\"second name\")\u001b[0m\n\u001b[1;37m                           ^\u001b[0m\n\u001b[1;31mSyntaxError\u001b[0m\u001b[1;31m:\u001b[0m invalid syntax\n"
     ]
    }
   ],
   "source": [
    "c = 'my fisrt name is' input(\"first name\") + 'my second name is' input(\"second name\")\n",
    "print(c)"
   ]
  },
  {
   "cell_type": "code",
   "execution_count": 1,
   "id": "79745538",
   "metadata": {},
   "outputs": [
    {
     "name": "stdout",
     "output_type": "stream",
     "text": [
      "(1, 2, 3, 4, 9, 'x', 'd', 1, 2, 3, 4)\n",
      "asd <class 'str'>\n",
      "1\n",
      "True\n",
      "(1, 2, 3, 4, 5, 6, 7) <class 'tuple'>\n",
      "[1, 2, 3, 4, 5, 6, 7] <class 'list'>\n",
      "[1, 2, 5, 6, 7]\n",
      "(1, 2, 5, 6, 7)\n",
      "(3, 4)\n",
      "2\n"
     ]
    },
    {
     "ename": "AttributeError",
     "evalue": "'tuple' object has no attribute 'len'",
     "output_type": "error",
     "traceback": [
      "\u001b[1;31m---------------------------------------------------------------------------\u001b[0m",
      "\u001b[1;31mAttributeError\u001b[0m                            Traceback (most recent call last)",
      "\u001b[1;32m~\\AppData\\Local\\Temp\\ipykernel_3648\\2335050465.py\u001b[0m in \u001b[0;36m<module>\u001b[1;34m\u001b[0m\n\u001b[0;32m     36\u001b[0m \u001b[0mprint\u001b[0m\u001b[1;33m(\u001b[0m\u001b[0mk\u001b[0m\u001b[1;33m.\u001b[0m\u001b[0mindex\u001b[0m\u001b[1;33m(\u001b[0m\u001b[1;36m3\u001b[0m\u001b[1;33m)\u001b[0m\u001b[1;33m)\u001b[0m\u001b[1;33m\u001b[0m\u001b[1;33m\u001b[0m\u001b[0m\n\u001b[0;32m     37\u001b[0m \u001b[1;33m\u001b[0m\u001b[0m\n\u001b[1;32m---> 38\u001b[1;33m \u001b[0mprint\u001b[0m\u001b[1;33m(\u001b[0m\u001b[0mk\u001b[0m\u001b[1;33m.\u001b[0m\u001b[0mlen\u001b[0m\u001b[1;33m)\u001b[0m\u001b[1;33m\u001b[0m\u001b[1;33m\u001b[0m\u001b[0m\n\u001b[0m\u001b[0;32m     39\u001b[0m \u001b[1;33m\u001b[0m\u001b[0m\n\u001b[0;32m     40\u001b[0m \u001b[1;33m\u001b[0m\u001b[0m\n",
      "\u001b[1;31mAttributeError\u001b[0m: 'tuple' object has no attribute 'len'"
     ]
    }
   ],
   "source": [
    "a=(1,2,3,4,2.5,\"hi\")\n",
    "a=a[:4]+(9,'x','d') +a[:4]\n",
    "print(a)\n",
    "\n",
    "b=(\"a\",\"s\",\"d\")\n",
    "c=''.join(b)\n",
    "print(c,type(c))\n",
    "\n",
    "print(a[-4])\n",
    "\n",
    "e=(1,1,1,2,2,2,3,3,3,4,4,4,5,5,5)\n",
    "\n",
    "print(1 in e)\n",
    "\n",
    "f=tuple([1,2,3,4,5,6,7])\n",
    "\n",
    "print(f,type(f))\n",
    "\n",
    "\n",
    "\n",
    "\n",
    "g=(1,2,3,4,5,6,7)\n",
    "h=list(g)\n",
    "print(h,type(h))\n",
    "h.remove(3)\n",
    "h.remove(4)\n",
    "print(h)\n",
    "i=tuple(h)\n",
    "print(i)\n",
    "\n",
    "\n",
    "g=g[2:4:1]\n",
    "print(g)\n",
    "\n",
    "k=(1,2,3,4,5,6,7,8)\n",
    "print(k.index(3))\n",
    "\n",
    "\n",
    "\n",
    "\n"
   ]
  },
  {
   "cell_type": "code",
   "execution_count": 17,
   "id": "03544da4",
   "metadata": {},
   "outputs": [
    {
     "name": "stdout",
     "output_type": "stream",
     "text": [
      "2\n",
      "8\n",
      "(8, 7, 6, 5, 4, 3, 2, 1)\n"
     ]
    }
   ],
   "source": [
    "k=(1,2,3,4,5,6,7,8)\n",
    "print(k.index(3))\n",
    "\n",
    "print(len(k))\n",
    "print(k[::-1])"
   ]
  },
  {
   "cell_type": "code",
   "execution_count": 10,
   "id": "4c397116",
   "metadata": {},
   "outputs": [
    {
     "name": "stdout",
     "output_type": "stream",
     "text": [
      "{2: 'w', 3: 'q'}\n"
     ]
    }
   ],
   "source": [
    "t=((2,'w'),(3,'q'))\n",
    "print(dict((x,y)for x,y in t))"
   ]
  },
  {
   "cell_type": "code",
   "execution_count": 15,
   "id": "e2f9853b",
   "metadata": {},
   "outputs": [
    {
     "name": "stdout",
     "output_type": "stream",
     "text": [
      "[(1, 1, 4), (2, 2, 5), (3, 4, 6)]\n"
     ]
    }
   ],
   "source": [
    "q=[(1,2,3),(1,2,4),(4,5,6)]\n",
    "print(list(zip(*q)))"
   ]
  },
  {
   "cell_type": "code",
   "execution_count": 26,
   "id": "1b40eef2",
   "metadata": {},
   "outputs": [
    {
     "name": "stdout",
     "output_type": "stream",
     "text": [
      "this is a tuple [100, 200, 300]\n"
     ]
    }
   ],
   "source": [
    "t=[100,200,300]\n",
    "print(\"this is a tuple %s\" %t)"
   ]
  },
  {
   "cell_type": "code",
   "execution_count": 28,
   "id": "af88c8ed",
   "metadata": {},
   "outputs": [
    {
     "name": "stdout",
     "output_type": "stream",
     "text": [
      "this is a tuple (100, 200, 300)\n"
     ]
    }
   ],
   "source": [
    "t=(100,200,300)\n",
    "print(\"this is a tuple {0}\".format(t))"
   ]
  },
  {
   "cell_type": "code",
   "execution_count": 29,
   "id": "ebd52cb3",
   "metadata": {},
   "outputs": [
    {
     "name": "stdout",
     "output_type": "stream",
     "text": [
      "this is a tuple [100, 200, 300]\n"
     ]
    }
   ],
   "source": [
    "t=[100,200,300]\n",
    "print(\"this is a tuple {0}\".format(t))"
   ]
  },
  {
   "cell_type": "code",
   "execution_count": 3,
   "id": "a14080b6",
   "metadata": {},
   "outputs": [
    {
     "name": "stdout",
     "output_type": "stream",
     "text": [
      "[(10, 20, 100), (40, 50, 100), (70, 80, 100)]\n"
     ]
    }
   ],
   "source": [
    "l=[(10, 20, 40), (40, 50, 60), (70, 80, 90)]\n",
    "print([t[:-1]+(100,) for t in l])"
   ]
  },
  {
   "cell_type": "code",
   "execution_count": 9,
   "id": "75ba4236",
   "metadata": {},
   "outputs": [
    {
     "name": "stdout",
     "output_type": "stream",
     "text": [
      "[('',), ('a', 'b'), ('a', 'b', 'c'), 'd']\n"
     ]
    }
   ],
   "source": [
    "s=[(), (), ('',), ('a', 'b'), ('a', 'b', 'c'), ('d')]\n",
    "s=[t for t in s if t]\n",
    "print(s)"
   ]
  },
  {
   "cell_type": "code",
   "execution_count": 20,
   "id": "baa5fb7b",
   "metadata": {},
   "outputs": [
    {
     "name": "stdout",
     "output_type": "stream",
     "text": [
      "Twinkle, twinkle, little star, \n",
      " \t How I wonder what you are!\n",
      " \t \t Up above the world so high,\n",
      "\t\t Like a diamond in the sky.\n",
      " Twinkle, twinkle, little star,\n",
      "\t How I wonder what you are\n"
     ]
    }
   ],
   "source": [
    " S=\"Twinkle, twinkle, little star, \\n \\t How I wonder what you are!\\n \\t \\t Up above the world so high,\\n\\t\\t Like a diamond in the sky.\\n Twinkle, twinkle, little star,\\n\\t How I wonder what you are\"\n",
    " print(S)   "
   ]
  },
  {
   "cell_type": "code",
   "execution_count": 22,
   "id": "c4a758d8",
   "metadata": {},
   "outputs": [
    {
     "name": "stdout",
     "output_type": "stream",
     "text": [
      "3.9.13 (main, Aug 25 2022, 23:51:50) [MSC v.1916 64 bit (AMD64)]\n"
     ]
    }
   ],
   "source": [
    "import sys\n",
    "print(sys.version)"
   ]
  },
  {
   "cell_type": "code",
   "execution_count": 29,
   "id": "9c73f50b",
   "metadata": {},
   "outputs": [
    {
     "name": "stdout",
     "output_type": "stream",
     "text": [
      "2023-03-06 14:27:38.938391\n"
     ]
    }
   ],
   "source": [
    "import datetime\n",
    "now=datetime.datetime.now()\n",
    "print(now)"
   ]
  },
  {
   "cell_type": "code",
   "execution_count": 6,
   "id": "1f766fcd",
   "metadata": {},
   "outputs": [
    {
     "name": "stdout",
     "output_type": "stream",
     "text": [
      "radius2.1\n",
      "area= 13.854423602330987\n"
     ]
    }
   ],
   "source": [
    "from math import pi\n",
    "r=float(input (\"radius\"))\n",
    "a=pi*(r**2)\n",
    "print(\"area=\",a)"
   ]
  },
  {
   "cell_type": "code",
   "execution_count": 8,
   "id": "c053ec77",
   "metadata": {},
   "outputs": [
    {
     "name": "stdout",
     "output_type": "stream",
     "text": [
      "first name sam\n",
      "last name lin\n",
      "lin sam\n"
     ]
    }
   ],
   "source": [
    "f=input(\"first name \")\n",
    "l=input(\"last name \")\n",
    "print(l,f)"
   ]
  },
  {
   "cell_type": "code",
   "execution_count": 25,
   "id": "12948819",
   "metadata": {},
   "outputs": [
    {
     "name": "stdout",
     "output_type": "stream",
     "text": [
      "numbers= 1234rdsdf\n",
      "list= ['1', '2', '3', '4', 'r', 'd', 's', 'd', 'f']\n",
      "tuples= ('1', '2', '3', '4', 'r', 'd', 's', 'd', 'f')\n"
     ]
    }
   ],
   "source": [
    "s=input(\"numbers= \")\n",
    "print(\"list=\", list(s)) \n",
    "print(\"tuples=\" ,tuple(s))"
   ]
  },
  {
   "cell_type": "code",
   "execution_count": 30,
   "id": "148a9cec",
   "metadata": {},
   "outputs": [
    {
     "name": "stdout",
     "output_type": "stream",
     "text": [
      "file name: we.w\n",
      "w\n"
     ]
    }
   ],
   "source": [
    "f=input(\"file name: \")\n",
    "ext= f.split(\".\")\n",
    "print(ext[-1])"
   ]
  },
  {
   "cell_type": "code",
   "execution_count": 39,
   "id": "c16f454c",
   "metadata": {},
   "outputs": [
    {
     "name": "stdout",
     "output_type": "stream",
     "text": [
      "Red Black\n"
     ]
    }
   ],
   "source": [
    "color_list = [\"Red\",\"Green\",\"White\" ,\"Black\"]\n",
    "print(color_list[0], color_list[-1])"
   ]
  },
  {
   "cell_type": "code",
   "execution_count": 41,
   "id": "67e56e10",
   "metadata": {},
   "outputs": [
    {
     "name": "stdout",
     "output_type": "stream",
     "text": [
      "The examination will start from: 11/12/2014\n"
     ]
    }
   ],
   "source": [
    "exam_st_date = (11, 12, 2014)\n",
    "print(\"The examination will start from: %s/%s/%s\" %exam_st_date)"
   ]
  },
  {
   "cell_type": "code",
   "execution_count": 54,
   "id": "9109a91d",
   "metadata": {},
   "outputs": [
    {
     "name": "stdout",
     "output_type": "stream",
     "text": [
      "integer= 5\n",
      "R=  615\n"
     ]
    }
   ],
   "source": [
    "n=int(input(\"integer= \"))\n",
    "n1=int(\"%s\" %n)\n",
    "n2=int(\"%s%s\" %(n,n))\n",
    "n3=int(\"%s%s%s\" %(n,n,n))\n",
    "print(\"R= \",n1+n2+n3)"
   ]
  },
  {
   "cell_type": "code",
   "execution_count": 57,
   "id": "8949338e",
   "metadata": {},
   "outputs": [
    {
     "name": "stdout",
     "output_type": "stream",
     "text": [
      "Return the absolute value of the argument.\n",
      "23.45\n"
     ]
    }
   ],
   "source": [
    "print(abs.__doc__)\n",
    "print(abs(-23.45))"
   ]
  },
  {
   "cell_type": "code",
   "execution_count": 66,
   "id": "7d77f0fb",
   "metadata": {},
   "outputs": [
    {
     "name": "stdout",
     "output_type": "stream",
     "text": [
      "input year = 2037\n",
      "input month = 12\n",
      "   December 2037\n",
      "Mo Tu We Th Fr Sa Su\n",
      "    1  2  3  4  5  6\n",
      " 7  8  9 10 11 12 13\n",
      "14 15 16 17 18 19 20\n",
      "21 22 23 24 25 26 27\n",
      "28 29 30 31\n",
      "\n"
     ]
    }
   ],
   "source": [
    "import calendar\n",
    "y=int(input(\"input year = \"))\n",
    "m=int(input(\"input month = \"))\n",
    "print(calendar.month(y, m))"
   ]
  },
  {
   "cell_type": "code",
   "execution_count": 67,
   "id": "843ccff3",
   "metadata": {},
   "outputs": [
    {
     "name": "stdout",
     "output_type": "stream",
     "text": [
      "\n",
      "a string that you \"don't\" have to escape\n",
      "This\n",
      "is a  ....... multi-line\n",
      "heredoc string --------> example\n",
      "\n"
     ]
    }
   ],
   "source": [
    "print(\"\"\"\n",
    "a string that you \"don't\" have to escape\n",
    "This\n",
    "is a  ....... multi-line\n",
    "heredoc string --------> example\n",
    "\"\"\")"
   ]
  },
  {
   "cell_type": "code",
   "execution_count": 72,
   "id": "7dd0d463",
   "metadata": {},
   "outputs": [
    {
     "name": "stdout",
     "output_type": "stream",
     "text": [
      "9\n"
     ]
    }
   ],
   "source": [
    "from datetime import date\n",
    "f=date(2014, 7, 2)\n",
    "l=date(2014, 7, 11)\n",
    "diff=l-f\n",
    "print(diff.days)"
   ]
  },
  {
   "cell_type": "code",
   "execution_count": 4,
   "id": "3f694f1c",
   "metadata": {},
   "outputs": [
    {
     "name": "stdout",
     "output_type": "stream",
     "text": [
      "enter radius= 34.34\n",
      "Volume=  169624.85201446497\n"
     ]
    }
   ],
   "source": [
    "from math import pi\n",
    "r=eval(input(\"enter radius= \"))\n",
    "V= 4.0/3.0*pi* r**3\n",
    "print(\"Volume= \", V)"
   ]
  },
  {
   "cell_type": "code",
   "execution_count": 12,
   "id": "d1bdd903",
   "metadata": {},
   "outputs": [
    {
     "name": "stdout",
     "output_type": "stream",
     "text": [
      "number= 5\n",
      "odd\n"
     ]
    }
   ],
   "source": [
    "a=int(input(\"number= \"))\n",
    "x=a%2\n",
    "if x>0:\n",
    "    print(\"odd\")\n",
    "else:\n",
    "    print(\"even\")"
   ]
  },
  {
   "cell_type": "code",
   "execution_count": 18,
   "id": "931fa26a",
   "metadata": {},
   "outputs": [
    {
     "name": "stdout",
     "output_type": "stream",
     "text": [
      "3\n"
     ]
    }
   ],
   "source": [
    "l=[1,1,1,12,22,4,5,4,5,4,5,4]\n",
    "y=l.count(1)\n",
    "\n",
    "print(y)"
   ]
  },
  {
   "cell_type": "code",
   "execution_count": 4,
   "id": "9a36900b",
   "metadata": {},
   "outputs": [
    {
     "name": "stdout",
     "output_type": "stream",
     "text": [
      "[1, 2, 3, 4, 5, 6]\n"
     ]
    }
   ],
   "source": [
    "l=[1,2,3,4,5,6]\n",
    "\n",
    "print(str(l), sep='--')"
   ]
  },
  {
   "cell_type": "code",
   "execution_count": 3,
   "id": "450b791c",
   "metadata": {},
   "outputs": [
    {
     "name": "stdout",
     "output_type": "stream",
     "text": [
      "color_list_1 that are not present in color_list_2\n",
      " {'Black', 'White'}\n",
      "color_list_2 that are not present in color_list_1\n",
      " {'Green'}\n"
     ]
    }
   ],
   "source": [
    "c_1 = {\"White\", \"Black\", \"Red\"}\n",
    "c_2 = {\"Red\", \"Green\"}\n",
    "print(\"color_list_1 that are not present in color_list_2\\n\",(c_1.difference(c_2)))\n",
    "print(\"color_list_2 that are not present in color_list_1\\n\",(c_2.difference(c_1)))"
   ]
  },
  {
   "cell_type": "code",
   "execution_count": 1,
   "id": "c48985c2",
   "metadata": {},
   "outputs": [
    {
     "name": "stdout",
     "output_type": "stream",
     "text": [
      "base= 2\n",
      "height= 3\n",
      "3.0\n"
     ]
    }
   ],
   "source": [
    "b=eval(input(\"base= \"))\n",
    "h=eval(input(\"height= \"))\n",
    "a=(b*h)/2\n",
    "print(a)"
   ]
  },
  {
   "cell_type": "code",
   "execution_count": 3,
   "id": "c802efe1",
   "metadata": {},
   "outputs": [
    {
     "name": "stdout",
     "output_type": "stream",
     "text": [
      "{1, 2, 3, 4, 'k', 'f'}\n"
     ]
    }
   ],
   "source": [
    "s={1,3,4,'f','k',4,2,3}\n",
    "print(s)"
   ]
  },
  {
   "cell_type": "code",
   "execution_count": 8,
   "id": "6a3d775e",
   "metadata": {},
   "outputs": [
    {
     "name": "stdout",
     "output_type": "stream",
     "text": [
      "number = 8\n",
      "sum of n munbers=  36\n"
     ]
    }
   ],
   "source": [
    "n=int(input('number = '))\n",
    "s=int((n*(n+1))/2)\n",
    "print(\"sum of n munbers= \",s)"
   ]
  },
  {
   "cell_type": "code",
   "execution_count": 1,
   "id": "ef6a9648",
   "metadata": {},
   "outputs": [
    {
     "name": "stdout",
     "output_type": "stream",
     "text": [
      "enter L= 3\n",
      "enter B= 4\n",
      "hypotenuse =  5.0\n"
     ]
    }
   ],
   "source": [
    "import math\n",
    "l=float(input(\"enter L= \"))\n",
    "b=float(input(\"enter B= \"))\n",
    "h=(math.sqrt((l**2)+(b**2)))\n",
    "print(\"hypotenuse = \",h)"
   ]
  },
  {
   "cell_type": "code",
   "execution_count": 2,
   "id": "6941837e",
   "metadata": {},
   "outputs": [
    {
     "name": "stdout",
     "output_type": "stream",
     "text": [
      "['__doc__', '__loader__', '__name__', '__package__', '__spec__', 'acos', 'acosh', 'asin', 'asinh', 'atan', 'atan2', 'atanh', 'ceil', 'comb', 'copysign', 'cos', 'cosh', 'degrees', 'dist', 'e', 'erf', 'erfc', 'exp', 'expm1', 'fabs', 'factorial', 'floor', 'fmod', 'frexp', 'fsum', 'gamma', 'gcd', 'hypot', 'inf', 'isclose', 'isfinite', 'isinf', 'isnan', 'isqrt', 'lcm', 'ldexp', 'lgamma', 'log', 'log10', 'log1p', 'log2', 'modf', 'nan', 'nextafter', 'perm', 'pi', 'pow', 'prod', 'radians', 'remainder', 'sin', 'sinh', 'sqrt', 'tan', 'tanh', 'tau', 'trunc', 'ulp']\n"
     ]
    }
   ],
   "source": [
    "print(dir(math))"
   ]
  },
  {
   "cell_type": "code",
   "execution_count": 9,
   "id": "3787a3f2",
   "metadata": {},
   "outputs": [
    {
     "name": "stdout",
     "output_type": "stream",
     "text": [
      "['__abstractmethods__', '__base__', '__bases__', '__basicsize__', '__call__', '__class__', '__delattr__', '__dict__', '__dictoffset__', '__dir__', '__doc__', '__eq__', '__flags__', '__format__', '__ge__', '__getattribute__', '__gt__', '__hash__', '__init__', '__init_subclass__', '__instancecheck__', '__itemsize__', '__le__', '__lt__', '__module__', '__mro__', '__name__', '__ne__', '__new__', '__prepare__', '__qualname__', '__reduce__', '__reduce_ex__', '__repr__', '__setattr__', '__sizeof__', '__str__', '__subclasscheck__', '__subclasses__', '__subclasshook__', '__text_signature__', '__weakrefoffset__', 'mro']\n"
     ]
    }
   ],
   "source": [
    "print(dir(type))"
   ]
  },
  {
   "cell_type": "code",
   "execution_count": 3,
   "id": "f26847ce",
   "metadata": {},
   "outputs": [
    {
     "name": "stdout",
     "output_type": "stream",
     "text": [
      "enter a str = \"gy\" \"tgvtg\"\n",
      "joind string=  \"+g+y+\"+ +\"+t+g+v+t+g+\"\n"
     ]
    }
   ],
   "source": [
    "s=input('enter a str = ')\n",
    "str= '+'.join(s)\n",
    "print(\"joind string= \",str)"
   ]
  },
  {
   "cell_type": "code",
   "execution_count": 4,
   "id": "80602ca1",
   "metadata": {},
   "outputs": [
    {
     "name": "stdout",
     "output_type": "stream",
     "text": [
      "15\n"
     ]
    }
   ],
   "source": [
    "s=sum({1,2,3,4,5})\n",
    "print(s)"
   ]
  },
  {
   "cell_type": "code",
   "execution_count": 3,
   "id": "8245a1e0",
   "metadata": {},
   "outputs": [
    {
     "name": "stdout",
     "output_type": "stream",
     "text": [
      "15\n"
     ]
    }
   ],
   "source": [
    "s=sum([1,2,3,4,5])\n",
    "print(s)"
   ]
  },
  {
   "cell_type": "code",
   "execution_count": 6,
   "id": "3d182156",
   "metadata": {},
   "outputs": [
    {
     "name": "stdout",
     "output_type": "stream",
     "text": [
      "60\n"
     ]
    }
   ],
   "source": [
    "k=sum((1,2,3,4,50))\n",
    "print(k)"
   ]
  },
  {
   "cell_type": "code",
   "execution_count": 11,
   "id": "fbd3982e",
   "metadata": {},
   "outputs": [
    {
     "name": "stdout",
     "output_type": "stream",
     "text": [
      "enter string= osfvofvfsv dofvd dfovdf fosf osfc\n",
      "6\n"
     ]
    }
   ],
   "source": [
    "s = input(\"enter string= \")\n",
    "print(s.count(\"o\"))"
   ]
  },
  {
   "cell_type": "code",
   "execution_count": 21,
   "id": "a2419cea",
   "metadata": {},
   "outputs": [
    {
     "name": "stdout",
     "output_type": "stream",
     "text": [
      "Enter list = 123456\n",
      "[123456]\n",
      "True\n"
     ]
    }
   ],
   "source": [
    "l=list(map(int, input(\"Enter list = \").split()))\n",
    "print(l)\n",
    "print (all(x > 1 for x in l))"
   ]
  },
  {
   "cell_type": "code",
   "execution_count": 34,
   "id": "b23eab38",
   "metadata": {},
   "outputs": [
    {
     "name": "stdout",
     "output_type": "stream",
     "text": [
      "20+30 = 50\n"
     ]
    }
   ],
   "source": [
    "x=20\n",
    "y=30\n",
    "s=x+y\n",
    "c=f'{x}+{y} ='\n",
    "print(c,s)\n"
   ]
  },
  {
   "cell_type": "code",
   "execution_count": 38,
   "id": "3a159085",
   "metadata": {},
   "outputs": [
    {
     "name": "stdout",
     "output_type": "stream",
     "text": [
      "a number= 4\n",
      "error\n"
     ]
    }
   ],
   "source": [
    "n=int(input('a number= '))\n",
    "if n==1:\n",
    "    print(\"monday\")\n",
    "else:\n",
    "    print(\"error\")"
   ]
  },
  {
   "cell_type": "code",
   "execution_count": 41,
   "id": "59f740b5",
   "metadata": {},
   "outputs": [
    {
     "name": "stdout",
     "output_type": "stream",
     "text": [
      "10 20\n",
      "20 10\n"
     ]
    }
   ],
   "source": [
    "a=10\n",
    "b=20\n",
    "print(a,b)\n",
    "a,b=b,a\n",
    "print(a,b)"
   ]
  },
  {
   "cell_type": "code",
   "execution_count": 42,
   "id": "e1fce3ae",
   "metadata": {},
   "outputs": [
    {
     "name": "stdout",
     "output_type": "stream",
     "text": [
      "2468636879440 <class 'int'> 10\n"
     ]
    }
   ],
   "source": [
    "a=10\n",
    "print(id(10),type(a),a)"
   ]
  },
  {
   "cell_type": "code",
   "execution_count": 48,
   "id": "144d614f",
   "metadata": {},
   "outputs": [
    {
     "name": "stdout",
     "output_type": "stream",
     "text": [
      "Thu Mar  9 20:52:46 2023\n"
     ]
    }
   ],
   "source": [
    "import time\n",
    "print(time.ctime())"
   ]
  },
  {
   "cell_type": "code",
   "execution_count": 52,
   "id": "ea42a980",
   "metadata": {},
   "outputs": [
    {
     "name": "stdout",
     "output_type": "stream",
     "text": [
      "0\n"
     ]
    }
   ],
   "source": [
    "n=20\n",
    "print(type (n)())"
   ]
  },
  {
   "cell_type": "code",
   "execution_count": 62,
   "id": "42143790",
   "metadata": {},
   "outputs": [
    {
     "name": "stdout",
     "output_type": "stream",
     "text": [
      "Fghfgfghhjhjj Sfc Sdcgjk Ghhjj\n"
     ]
    }
   ],
   "source": [
    "s=(\"fghFGFGHhjHJj sfc sdcGJK GHHjj\")\n",
    "print(s.title())"
   ]
  },
  {
   "cell_type": "code",
   "execution_count": 64,
   "id": "92dd2b9c",
   "metadata": {},
   "outputs": [
    {
     "name": "stdout",
     "output_type": "stream",
     "text": [
      "15\n"
     ]
    }
   ],
   "source": [
    "a=15\n",
    "print(a)"
   ]
  },
  {
   "cell_type": "code",
   "execution_count": 76,
   "id": "799bba0b",
   "metadata": {},
   "outputs": [
    {
     "name": "stdout",
     "output_type": "stream",
     "text": [
      "enter any string= H\n",
      "False\n"
     ]
    }
   ],
   "source": [
    "s=input('enter any string= ')\n",
    "print(s.startswith(\"h\"))"
   ]
  },
  {
   "cell_type": "code",
   "execution_count": 1,
   "id": "948ab645",
   "metadata": {},
   "outputs": [
    {
     "name": "stdout",
     "output_type": "stream",
     "text": [
      "enter a number= 2323.232424\n",
      "2323.232424\n"
     ]
    }
   ],
   "source": [
    "s=float(input(\"enter a number= \"))\n",
    "c=f'{s}'\n",
    "print(c)"
   ]
  },
  {
   "cell_type": "code",
   "execution_count": null,
   "id": "797407d5",
   "metadata": {},
   "outputs": [],
   "source": [
    "s=float(input(\"enter a number= \"))\n",
    "print(\"number\"+\"{:.2f}\".format(s))\n"
   ]
  },
  {
   "cell_type": "code",
   "execution_count": 3,
   "id": "2119e69a",
   "metadata": {},
   "outputs": [
    {
     "name": "stdout",
     "output_type": "stream",
     "text": [
      "https:\n",
      "https://www.w3resource.com/python\n"
     ]
    }
   ],
   "source": [
    "str1 = 'https://www.w3resource.com/python-exercises/string'\n",
    "print(str1.split('/',1)[0])\n",
    "print(str1.split('-',1)[0])"
   ]
  },
  {
   "cell_type": "code",
   "execution_count": 4,
   "id": "00edfa6b",
   "metadata": {},
   "outputs": [
    {
     "name": "stdout",
     "output_type": "stream",
     "text": [
      "https://www.w3resource.com/python-exercises\n",
      "https://www.w3resource.com/python\n"
     ]
    }
   ],
   "source": [
    "str1 = 'https://www.w3resource.com/python-exercises/string'\n",
    "print(str1.rsplit('/',1)[0])\n",
    "print(str1.rsplit('-',1)[0])"
   ]
  },
  {
   "cell_type": "code",
   "execution_count": null,
   "id": "60ad871d",
   "metadata": {},
   "outputs": [],
   "source": []
  }
 ],
 "metadata": {
  "kernelspec": {
   "display_name": "Python 3 (ipykernel)",
   "language": "python",
   "name": "python3"
  },
  "language_info": {
   "codemirror_mode": {
    "name": "ipython",
    "version": 3
   },
   "file_extension": ".py",
   "mimetype": "text/x-python",
   "name": "python",
   "nbconvert_exporter": "python",
   "pygments_lexer": "ipython3",
   "version": "3.9.13"
  }
 },
 "nbformat": 4,
 "nbformat_minor": 5
}
